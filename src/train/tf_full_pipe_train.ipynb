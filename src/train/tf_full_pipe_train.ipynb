{
 "cells": [
  {
   "cell_type": "markdown",
   "metadata": {},
   "source": [
    "## Imports"
   ]
  },
  {
   "cell_type": "code",
   "execution_count": 1,
   "metadata": {},
   "outputs": [],
   "source": [
    "%reload_ext autoreload\n",
    "%autoreload 2\n",
    "%matplotlib inline"
   ]
  },
  {
   "cell_type": "code",
   "execution_count": 2,
   "metadata": {},
   "outputs": [],
   "source": [
    "import os\n",
    "# os.environ[\"CUDA_VISIBLE_DEVICES\"] = \"-1\"   # disable GPU\n",
    "os.environ['WANDB_NOTEBOOK_NAME'] = 'immortar_notebook'\n",
    "os.environ['WANDB_API_KEY'] = '41acbb043aff8df0314092f00990f3f3ddf86440'\n",
    "os.environ['WANDB_MODE'] = 'online'"
   ]
  },
  {
   "cell_type": "code",
   "execution_count": 3,
   "metadata": {
    "scrolled": true
   },
   "outputs": [],
   "source": [
    "# !pip install tensorflow_hub tensorflow_addons tensorflow_datasets"
   ]
  },
  {
   "cell_type": "code",
   "execution_count": 4,
   "metadata": {},
   "outputs": [],
   "source": [
    "import tensorflow as tf\n",
    "import tensorflow_hub as hub\n",
    "import tensorflow_addons as tfa\n",
    "import tensorflow.keras.backend as K\n",
    "\n",
    "import tensorflow_datasets as tfds\n",
    "from tensorflow.compat.v1 import ConfigProto\n",
    "from tensorflow.compat.v1 import InteractiveSession\n",
    "\n",
    "# import wandb\n",
    "# wandb.login()\n",
    "# wandb.init(sync_tensorboard=True, project='immortar_hypersearch')\n",
    "\n",
    "config = ConfigProto()\n",
    "config.gpu_options.allow_growth = True\n",
    "session = InteractiveSession(config=config)\n",
    "\n",
    "import time\n",
    "\n",
    "from PIL import Image\n",
    "import requests\n",
    "from io import BytesIO\n",
    "\n",
    "import matplotlib.pyplot as plt\n",
    "import numpy as np\n",
    "\n",
    "import os\n",
    "from pathlib import Path\n",
    "import pandas as pd\n",
    "\n",
    "import cv2\n",
    "import multiprocessing\n",
    "import shutil\n",
    "import random\n",
    "from PIL import ImageFile\n",
    "\n",
    "from functools import partial"
   ]
  },
  {
   "cell_type": "markdown",
   "metadata": {},
   "source": [
    "### Config"
   ]
  },
  {
   "cell_type": "code",
   "execution_count": 32,
   "metadata": {},
   "outputs": [],
   "source": [
    "major_version = 6\n",
    "minor_version = 2\n",
    "\n",
    "mortar_type = \"india\"\n",
    "\n",
    "np.random.seed(43)\n",
    "root_dir = Path('../..')\n",
    "data_dir = root_dir / \"data\"\n",
    "csv =  root_dir / \"data\" /  (mortar_type + '.csv')\n",
    "model_folder = data_dir / \"models\"\n",
    "\n",
    "ALPHA = 0.4\n",
    "\n",
    "# policy = mixed_precision.Policy('mixed_float16')\n",
    "# mixed_precision.set_policy(policy)"
   ]
  },
  {
   "cell_type": "markdown",
   "metadata": {},
   "source": [
    "## Load dataset"
   ]
  },
  {
   "cell_type": "code",
   "execution_count": 6,
   "metadata": {},
   "outputs": [],
   "source": [
    "def explore_dataset(ds):\n",
    "    for x in tfds.as_numpy(ds.take(2)):\n",
    "        if isinstance(x, dict):\n",
    "            print(x['image'].shape, x['label'])\n",
    "        else:\n",
    "            print(x[0].shape, x[1].shape, x[1].flatten()[:5])"
   ]
  },
  {
   "cell_type": "markdown",
   "metadata": {},
   "source": [
    "#### Load our data"
   ]
  },
  {
   "cell_type": "code",
   "execution_count": 7,
   "metadata": {},
   "outputs": [],
   "source": [
    "# train_dir = data_dir / 'dummy_train'\n",
    "train_dir = data_dir / 'train'"
   ]
  },
  {
   "cell_type": "code",
   "execution_count": 8,
   "metadata": {},
   "outputs": [
    {
     "name": "stdout",
     "output_type": "stream",
     "text": [
      "(512, 512, 3) 14.0\n",
      "(512, 512, 3) 25.0\n"
     ]
    }
   ],
   "source": [
    "IMG_STRUCTURE = '*/*'   # where are the images stored compared to the train_dir\n",
    "\n",
    "CLASS_NAMES = [path.name for path in train_dir.glob('*')]  # from plotting helper functions above\n",
    "NUM_CLASSES = len(CLASS_NAMES)\n",
    "num_examples = len(list(train_dir.glob(f'{IMG_STRUCTURE}.png'))) + len(list(train_dir.glob(f'{IMG_STRUCTURE}.jpg')))\n",
    "\n",
    "def get_label(file_path, multiplier=1):\n",
    "    # convert the path to a list of path components\n",
    "    parts = tf.strings.split(file_path, os.path.sep)\n",
    "    # The second to last is the class-directory\n",
    "#     value = tf.strings.split(parts[-1], '_')[0]\n",
    "\n",
    "#     return tf.where(parts[-2] == CLASS_NAMES)[0][0]   # classification\n",
    "    return tf.strings.to_number(parts[-2])             # regression\n",
    "#     return tf.strings.to_number(value) * multiplier             # regression\n",
    "\n",
    "def decode_img(img):\n",
    "    # convert the compressed string to a 3D uint8 tensor\n",
    "    img = tf.image.decode_jpeg(img, channels=3)\n",
    "    return img  \n",
    "\n",
    "def process_path(file_path, multiplier=1):\n",
    "    label = get_label(file_path, multiplier=multiplier)\n",
    "    # load the raw data from the file as a string\n",
    "    img = tf.io.read_file(file_path)\n",
    "    img = decode_img(img)\n",
    "    features = {'image': img, 'label': label}\n",
    "    return features\n",
    "\n",
    "def get_raw_dataset(dir_path, multiplier=1):\n",
    "    list_ds = tf.data.Dataset.list_files(str(dir_path/IMG_STRUCTURE))\n",
    "    process_path_mult = partial(process_path, multiplier=multiplier)\n",
    "    ds = list_ds.map(process_path_mult, num_parallel_calls=tf.data.experimental.AUTOTUNE)\n",
    "    return ds\n",
    "\n",
    "explore_dataset(get_raw_dataset(train_dir))"
   ]
  },
  {
   "cell_type": "code",
   "execution_count": 9,
   "metadata": {},
   "outputs": [
    {
     "data": {
      "text/plain": [
       "19115"
      ]
     },
     "execution_count": 9,
     "metadata": {},
     "output_type": "execute_result"
    }
   ],
   "source": [
    "ds_train = get_raw_dataset(data_dir / 'train')\n",
    "ds_val = get_raw_dataset(data_dir / 'valid')\n",
    "ds_test = get_raw_dataset(data_dir / 'test')\n",
    "\n",
    "DATASET_NUM_TRAIN_EXAMPLES = len(ds_train)\n",
    "DATASET_NUM_TRAIN_EXAMPLES"
   ]
  },
  {
   "cell_type": "code",
   "execution_count": 10,
   "metadata": {},
   "outputs": [
    {
     "name": "stdout",
     "output_type": "stream",
     "text": [
      "(512, 512, 3) 24.0\n",
      "(512, 512, 3) -13.0\n"
     ]
    }
   ],
   "source": [
    "explore_dataset(ds_train)"
   ]
  },
  {
   "cell_type": "code",
   "execution_count": 11,
   "metadata": {},
   "outputs": [
    {
     "name": "stdout",
     "output_type": "stream",
     "text": [
      "(512, 512, 3) -26.0\n",
      "(512, 512, 3) 8.0\n"
     ]
    }
   ],
   "source": [
    "explore_dataset(ds_test)"
   ]
  },
  {
   "cell_type": "markdown",
   "metadata": {},
   "source": [
    "### Create BiT model"
   ]
  },
  {
   "cell_type": "code",
   "execution_count": 12,
   "metadata": {},
   "outputs": [],
   "source": [
    "#@title Set dataset-dependent hyperparameters\n",
    "\n",
    "#@markdown Here we set dataset-dependent hyperparameters. For example, our dataset of flowers has 3670 images of varying size (a few hundred x a few hundred pixels), so the image size is larger than 96x96 and the dataset size is <20k examples. However, for speed reasons (since this is a tutorial and we are training on a single GPU), we will select the `<96x96 px` option and train on lower resolution images. As we will see, we can still attain strong results.\n",
    "\n",
    "#@markdown **Algorithm details: how are the hyperparameters dataset-dependent?** \n",
    "\n",
    "#@markdown It's quite intuitive - we resize images to a smaller fixed size if they are smaller than 96 x 96px and to a larger fixed size otherwise. The number of steps we fine-tune for is larger for larger datasets. \n",
    "\n",
    "IMAGE_SIZE = \"> 96 x 96 px\" #@param [\"=<96x96 px\",\"> 96 x 96 px\"]\n",
    "DATASET_SIZE = \"20k-500k examples\" #@param [\"<20k examples\", \"20k-500k examples\", \">500k examples\"]\n",
    "\n",
    "if IMAGE_SIZE == \"=<96x96 px\":\n",
    "    RESIZE_TO = 160\n",
    "    CROP_TO = 128\n",
    "else:\n",
    "    RESIZE_TO = 512\n",
    "    CROP_TO = 480\n",
    "\n",
    "if DATASET_SIZE == \"<20k examples\":\n",
    "    INIT_SCHEDULE_LENGTH = 500\n",
    "    SCHEDULE_BOUNDARIES = [200, 300, 400]\n",
    "elif DATASET_SIZE == \"20k-500k examples\":\n",
    "    INIT_SCHEDULE_LENGTH = 10000\n",
    "    SCHEDULE_BOUNDARIES = [3000, 6000, 9000]\n",
    "else:\n",
    "    INIT_SCHEDULE_LENGTH = 20000\n",
    "    SCHEDULE_BOUNDARIES = [6000, 12000, 18000]"
   ]
  },
  {
   "cell_type": "code",
   "execution_count": 13,
   "metadata": {},
   "outputs": [],
   "source": [
    "DUMMY_MODE = True\n",
    "if DUMMY_MODE:\n",
    "    RESIZE_TO = 96\n",
    "    CROP_TO = 64\n",
    "    INIT_SCHEDULE_LENGTH = 50\n",
    "    SCHEDULE_BOUNDARIES = [20, 30, 40]\n",
    "    \n",
    "RESIZE_TO = 256\n",
    "CROP_TO = 256\n",
    "INIT_SCHEDULE_LENGTH = 500\n",
    "SCHEDULE_BOUNDARIES = [200, 300, 400]"
   ]
  },
  {
   "cell_type": "code",
   "execution_count": 14,
   "metadata": {},
   "outputs": [
    {
     "name": "stdout",
     "output_type": "stream",
     "text": [
      "Selected:\n",
      "RESIZE_TO=256\n",
      "CROP_TO=256\n",
      "INIT_SCHEDULE_LENGTH=500\n",
      "SCHEDULE_BOUNDARIES=[200, 300, 400]\n"
     ]
    }
   ],
   "source": [
    "print(f'Selected:\\nRESIZE_TO={RESIZE_TO}'\n",
    "      f'\\nCROP_TO={CROP_TO}'\n",
    "      f'\\nINIT_SCHEDULE_LENGTH={INIT_SCHEDULE_LENGTH}'\n",
    "      f'\\nSCHEDULE_BOUNDARIES={SCHEDULE_BOUNDARIES}')"
   ]
  },
  {
   "cell_type": "code",
   "execution_count": 15,
   "metadata": {},
   "outputs": [],
   "source": [
    "# Load model into KerasLayer\n",
    "model_url = \"https://tfhub.dev/google/bit/m-r50x1/1\"\n",
    "# model_url = \"https://tfhub.dev/tensorflow/efficientnet/b7/feature-vector/1\"\n",
    "bit_model = hub.KerasLayer(model_url)"
   ]
  },
  {
   "cell_type": "code",
   "execution_count": 16,
   "metadata": {},
   "outputs": [
    {
     "name": "stdout",
     "output_type": "stream",
     "text": [
      "Model: \"functional_1\"\n",
      "_________________________________________________________________\n",
      "Layer (type)                 Output Shape              Param #   \n",
      "=================================================================\n",
      "input_1 (InputLayer)         [(None, 256, 256, 3)]     0         \n",
      "_________________________________________________________________\n",
      "conv2d (Conv2D)              (None, 127, 127, 64)      1792      \n",
      "_________________________________________________________________\n",
      "max_pooling2d (MaxPooling2D) (None, 63, 63, 64)        0         \n",
      "_________________________________________________________________\n",
      "conv2d_1 (Conv2D)            (None, 31, 31, 64)        36928     \n",
      "_________________________________________________________________\n",
      "max_pooling2d_1 (MaxPooling2 (None, 15, 15, 64)        0         \n",
      "_________________________________________________________________\n",
      "conv2d_2 (Conv2D)            (None, 7, 7, 32)          18464     \n",
      "_________________________________________________________________\n",
      "batch_normalization (BatchNo (None, 7, 7, 32)          128       \n",
      "_________________________________________________________________\n",
      "max_pooling2d_2 (MaxPooling2 (None, 3, 3, 32)          0         \n",
      "_________________________________________________________________\n",
      "flatten (Flatten)            (None, 288)               0         \n",
      "_________________________________________________________________\n",
      "dropout (Dropout)            (None, 288)               0         \n",
      "_________________________________________________________________\n",
      "dense (Dense)                (None, 64)                18496     \n",
      "_________________________________________________________________\n",
      "dense_1 (Dense)              (None, 1)                 65        \n",
      "=================================================================\n",
      "Total params: 75,873\n",
      "Trainable params: 75,809\n",
      "Non-trainable params: 64\n",
      "_________________________________________________________________\n"
     ]
    }
   ],
   "source": [
    "# Add new head to the BiT model\n",
    "\n",
    "def get_basic_module(x):\n",
    "    x = tf.keras.layers.Conv2D(64, 3, (2, 2), activation='relu')(x)\n",
    "#     x = tf.keras.layers.BatchNormalization()(x)\n",
    "    x = tf.keras.layers.MaxPooling2D((2, 2))(x)\n",
    "    x = tf.keras.layers.Conv2D(64, 3, (2, 2), activation='relu')(x)\n",
    "#     x = tf.keras.layers.BatchNormalization()(x)\n",
    "    x = tf.keras.layers.MaxPooling2D((2, 2))(x)\n",
    "    x = tf.keras.layers.Conv2D(32, 3, (2, 2), activation='relu')(x)\n",
    "    x = tf.keras.layers.BatchNormalization()(x)\n",
    "    x = tf.keras.layers.MaxPooling2D((2, 2))(x)\n",
    "    x = tf.keras.layers.Flatten()(x)\n",
    "    return x\n",
    "\n",
    "def build_basic_model(module):\n",
    "    input_ = tf.keras.layers.Input((CROP_TO, CROP_TO, 3))\n",
    "    x = module(input_)   # Outputs feature vectors [None, 2048]\n",
    "\n",
    "    activation = 'relu'\n",
    "    kernel_initializer = 'lecun_uniform'\n",
    "    output_initializer = 'lecun_uniform'\n",
    "\n",
    "#     for i in range(1):\n",
    "    x = tf.keras.layers.Dropout(0.2)(x)\n",
    "    x = tf.keras.layers.Dense(64,\n",
    "                              activation=activation, \n",
    "                              kernel_initializer=kernel_initializer)(x)\n",
    "#     x = tf.keras.layers.BatchNormalization()(x)\n",
    "#     x = tf.keras.layers.Dropout(0.2)(x)\n",
    "#     x = tf.keras.layers.Dense(32,\n",
    "#                               activation=activation, \n",
    "#                               kernel_initializer=kernel_initializer)(x)\n",
    "    x = tf.keras.layers.Dense(1, kernel_initializer=output_initializer)(x)\n",
    "    \n",
    "    model_ = tf.keras.Model(input_, x)\n",
    "    \n",
    "    return model_\n",
    "\n",
    "# model = build_basic_model(bit_model)\n",
    "model = build_basic_model(get_basic_module)\n",
    "model.summary()"
   ]
  },
  {
   "cell_type": "code",
   "execution_count": null,
   "metadata": {},
   "outputs": [],
   "source": []
  },
  {
   "cell_type": "code",
   "execution_count": 17,
   "metadata": {},
   "outputs": [],
   "source": [
    "import tensorflow_probability as tfp\n",
    "# Preprocessing helper functions\n",
    "\n",
    "# Create data pipelines for training and testing:\n",
    "BATCH_SIZE = 32\n",
    "SCHEDULE_LENGTH = INIT_SCHEDULE_LENGTH * 512 / BATCH_SIZE\n",
    "\n",
    "STEPS_PER_EPOCH = len(ds_val) // BATCH_SIZE\n",
    "\n",
    "RESIZE_TO_X = RESIZE_TO_Y = RESIZE_TO\n",
    "CROP_TO_X = CROP_TO_Y = CROP_TO\n",
    "\n",
    "def mixup(features):\n",
    "    new_order = tf.random.shuffle(tf.range(BATCH_SIZE))\n",
    "    dist = tfp.distributions.Beta(ALPHA, ALPHA)\n",
    "    ratio = dist.sample(BATCH_SIZE)\n",
    "    \n",
    "    features['image'] = ratio[:,None,None,None] * features['image'] + (1 - ratio[:,None,None,None]) * tf.gather(features['image'], new_order)\n",
    "    features['label'] = ratio * features['label'] + (1 - ratio) * tf.gather(features['label'], new_order)\n",
    "    \n",
    "    return features\n",
    "\n",
    "def cast_to_tuple(features):\n",
    "    return (features['image'], features['label'])\n",
    "\n",
    "def preprocess_train(features):\n",
    "    # Apply random crops and horizontal flips for all tasks \n",
    "    # except those for which cropping or flipping destroys the label semantics\n",
    "    # (e.g. predict orientation of an object)\n",
    "#     features['image'] = tf.image.random_flip_left_right(features['image'])\n",
    "    features['image'] = tf.image.resize(features['image'], [RESIZE_TO_X, RESIZE_TO_Y])\n",
    "#     features['image'] = tf.image.random_crop(features['image'], [CROP_TO_X, CROP_TO_Y, 3])\n",
    "    features['image'] = tf.cast(features['image'], tf.float32) / 255.0\n",
    "    return features\n",
    "\n",
    "def preprocess_test(features):\n",
    "    features['image'] = tf.image.resize(features['image'], [RESIZE_TO_X, RESIZE_TO_Y])\n",
    "#     features['image'] = tf.image.resize_with_crop_or_pad(features['image'], CROP_TO_X, CROP_TO_Y)\n",
    "    features['image'] = tf.cast(features['image'], tf.float32) / 255.0\n",
    "    return features\n",
    "\n",
    "pipeline_train = (ds_train\n",
    "#                   .shuffle(10000)\n",
    "                  .repeat(int(SCHEDULE_LENGTH * BATCH_SIZE / DATASET_NUM_TRAIN_EXAMPLES * STEPS_PER_EPOCH) + 1 + 50)  # repeat dataset_size / num_steps\n",
    "                  .map(preprocess_train, num_parallel_calls=1)\n",
    "                  .batch(BATCH_SIZE)\n",
    "#                   .map(mixup, num_parallel_calls=8)\n",
    "                  .map(cast_to_tuple)  # for keras model.fit\n",
    "                  .prefetch(2))\n",
    "\n",
    "pipeline_val = (ds_val.map(preprocess_test, num_parallel_calls=8)\n",
    "                  .batch(BATCH_SIZE)\n",
    "                  .map(cast_to_tuple)  # for keras model.fit\n",
    "#                   .cache()\n",
    "                  .prefetch(2))\n",
    "\n",
    "pipeline_test = (ds_test.map(preprocess_test, num_parallel_calls=8)\n",
    "                  .batch(BATCH_SIZE)\n",
    "                  .map(cast_to_tuple)  # for keras model.fit\n",
    "#                   .cache()\n",
    "                  .prefetch(2))"
   ]
  },
  {
   "cell_type": "code",
   "execution_count": 18,
   "metadata": {},
   "outputs": [
    {
     "name": "stdout",
     "output_type": "stream",
     "text": [
      "(32, 256, 256, 3) (32,) [ -3. -24.   0.  -6.  -7.]\n",
      "(32, 256, 256, 3) (32,) [  9.   9. -23.  -5.   8.]\n"
     ]
    }
   ],
   "source": [
    "explore_dataset(pipeline_train)"
   ]
  },
  {
   "cell_type": "code",
   "execution_count": 19,
   "metadata": {},
   "outputs": [],
   "source": [
    "# explore_dataset(pipeline_val)"
   ]
  },
  {
   "cell_type": "code",
   "execution_count": 20,
   "metadata": {},
   "outputs": [],
   "source": [
    "def weighted_MAE(y_true, y_pred):\n",
    "    return K.relu(K.abs(y_true - y_pred) - K.abs(y_pred) * 0.3 - 1) * 0.9 + 0.1 * K.abs(y_true - y_pred)"
   ]
  },
  {
   "cell_type": "code",
   "execution_count": 21,
   "metadata": {},
   "outputs": [],
   "source": [
    "# Define optimiser and loss\n",
    "\n",
    "lr = 0.004 * BATCH_SIZE / 512 \n",
    "\n",
    "# Decay learning rate by a factor of 10 at SCHEDULE_BOUNDARIES.\n",
    "lr_schedule = tf.keras.optimizers.schedules.PiecewiseConstantDecay(boundaries=SCHEDULE_BOUNDARIES, \n",
    "                                                                   values=[lr, lr*0.1, lr*0.001, lr*0.0001])\n",
    "optimizer = tf.keras.optimizers.SGD(learning_rate=lr_schedule, momentum=0.9)\n",
    "\n",
    "# loss_fn = tf.keras.losses.SparseCategoricalCrossentropy(from_logits=True)"
   ]
  },
  {
   "cell_type": "code",
   "execution_count": 22,
   "metadata": {},
   "outputs": [],
   "source": [
    "optimizer = tfa.optimizers.RectifiedAdam(learning_rate=0.008,\n",
    "                                        beta_1=0.95,\n",
    "                                        beta_2=0.99,\n",
    "                                        epsilon=1e-6)\n",
    "optimizer = tfa.optimizers.Lookahead(optimizer, sync_period=6, slow_step_size=0.5)\n",
    "loss_fn = tf.keras.losses.MSE\n",
    "# loss_fn = weighted_MAE"
   ]
  },
  {
   "cell_type": "markdown",
   "metadata": {},
   "source": [
    "### Caveats\n",
    "- The `fit` leaks memory => to run another `fit`, the kernel should be restarted."
   ]
  },
  {
   "cell_type": "markdown",
   "metadata": {},
   "source": [
    "### Train and eval\n",
    "#### Caution\n",
    "Each time the pipeline_test is accessed, the items are returned in an arbitrary order.\n",
    "\n",
    "\n",
    "Error bars in graph are 1 std, which is 68% confidence for 1 value, 95% for 4 values, 99.7% for 9 values..."
   ]
  },
  {
   "cell_type": "code",
   "execution_count": null,
   "metadata": {},
   "outputs": [],
   "source": []
  },
  {
   "cell_type": "code",
   "execution_count": 23,
   "metadata": {},
   "outputs": [],
   "source": [
    "def get_stats(df):\n",
    "    ser = pd.Series()\n",
    "    for col in df.select_dtypes(include=np.number).columns:\n",
    "        ser[f'{col}_mean'] = df[col].mean()\n",
    "        ser[f'{col}_std'] = df[col].std()\n",
    "    return ser\n",
    "\n",
    "def eval_model(model_, ds_, div_factor=1):\n",
    "    results = np.concatenate([np.stack([model_.predict(x, batch_size=64, workers=4).flatten(), y], axis=1) for x, y in tfds.as_numpy(ds_)])\n",
    "#     print(weighted_MAE(*tf.transpose(results)))\n",
    "    df = pd.DataFrame(results, columns=['pred', 'true']).groupby('true').apply(get_stats)\n",
    "    df.pred_mean *= div_factor\n",
    "    min_error = 1\n",
    "    final_opt_div_factor = 1\n",
    "    for opt_div_factor in np.arange(1 / 3, 1 * 3, 1 / 30):\n",
    "        error = np.average(np.asarray(np.abs(df.index - df.pred_mean * opt_div_factor) > 1 + 0.3 * np.abs(df.index), np.float32))\n",
    "        if error < min_error:\n",
    "            final_opt_div_factor = opt_div_factor\n",
    "            min_error = error\n",
    "    plt.errorbar(df.index, df.pred_mean, df.pred_std * 2, linestyle='None', marker='^')\n",
    "    results_1 = \\\n",
    "        f\"MAE {np.average(np.abs(df.index - df.pred_mean))}\\n\" + \\\n",
    "        f\"MSE {np.sqrt(np.average(np.abs(df.index - df.pred_mean) ** 2))}\\n\" + \\\n",
    "        f\"outside {np.average(np.asarray(np.abs(df.index - df.pred_mean) > 1 + 0.3 * np.abs(df.index), np.float32))}\"\n",
    "    \n",
    "    df.pred_mean *= final_opt_div_factor\n",
    "    plt.errorbar(df.index, df.pred_mean, df.pred_std * 2, linestyle='None', marker='^', color='green')\n",
    "    results_2 = \\\n",
    "        f\"opt factor {final_opt_div_factor}, with div_factor {div_factor}\\n\" + \\\n",
    "        f\"opt MAE {np.average(np.abs(df.index - df.pred_mean))}\\n\" + \\\n",
    "        f\"opt MSE {np.sqrt(np.average(np.abs(df.index - df.pred_mean) ** 2))}\\n\" + \\\n",
    "        f\"opt outside {np.average(np.asarray(np.abs(df.index - df.pred_mean) > 1 + 0.3 * np.abs(df.index), np.float32))}\"\n",
    "    plt.plot([-20, 0, 20], [-27, -1, 13], color='red')\n",
    "    plt.plot([-20, 0, 20], [-13, 1, 27], color='red')\n",
    "    plt.ylim(min(df.pred_mean) - 2, max(df.pred_mean) + 2)\n",
    "    plt.show()\n",
    "    return results_1 + \"\\n\\n\" + results_2\n",
    "    \n",
    "# print(eval_model(model, pipeline_test))"
   ]
  },
  {
   "cell_type": "code",
   "execution_count": 35,
   "metadata": {},
   "outputs": [],
   "source": [
    "callbacks = [\n",
    "#     tf.keras.callbacks.TensorBoard(profile_batch=0,),\n",
    "    tf.keras.callbacks.EarlyStopping(patience=4, restore_best_weights=True),\n",
    "]\n",
    "\n",
    "model.compile(optimizer=optimizer,\n",
    "              loss=loss_fn,\n",
    "#               metrics=['mae', 'mse', weighted_MAE])\n",
    "              metrics=['mae', 'mse',])\n",
    "epochs = 100 #int(SCHEDULE_LENGTH / STEPS_PER_EPOCH)\n",
    "# Fine-tune model\n",
    "EVAL_FREQ = 4"
   ]
  },
  {
   "cell_type": "code",
   "execution_count": 36,
   "metadata": {
    "scrolled": true
   },
   "outputs": [
    {
     "name": "stdout",
     "output_type": "stream",
     "text": [
      "Train for total of 100 epochs:\n",
      "Epoch 1/4\n",
      "135/135 - 5s - loss: 12.2809 - mae: 2.6657 - mse: 12.2809 - val_loss: 11.1446 - val_mae: 2.4909 - val_mse: 11.1446\n",
      "Epoch 2/4\n",
      "135/135 - 5s - loss: 11.2947 - mae: 2.5818 - mse: 11.2947 - val_loss: 13.6706 - val_mae: 2.8247 - val_mse: 13.6706\n",
      "Epoch 3/4\n",
      "135/135 - 5s - loss: 12.6721 - mae: 2.7204 - mse: 12.6721 - val_loss: 7.9676 - val_mae: 2.0987 - val_mse: 7.9676\n",
      "Epoch 4/4\n",
      "135/135 - 5s - loss: 12.0967 - mae: 2.6425 - mse: 12.0967 - val_loss: 14.7872 - val_mae: 3.0367 - val_mse: 14.7872\n",
      "Results on validation:\n"
     ]
    },
    {
     "name": "stderr",
     "output_type": "stream",
     "text": [
      "/usr/local/lib/python3.6/dist-packages/ipykernel_launcher.py:2: DeprecationWarning: The default dtype for empty Series will be 'object' instead of 'float64' in a future version. Specify a dtype explicitly to silence this warning.\n",
      "  \n"
     ]
    },
    {
     "data": {
      "image/png": "[encoded data removed]",
      "text/plain": [
       "<Figure size 432x288 with 1 Axes>"
      ]
     },
     "metadata": {
      "needs_background": "light"
     },
     "output_type": "display_data"
    },
    {
     "name": "stdout",
     "output_type": "stream",
     "text": [
      "Epoch 5/8\n",
      "135/135 - 5s - loss: 10.7542 - mae: 2.5449 - mse: 10.7542 - val_loss: 9.2495 - val_mae: 2.2261 - val_mse: 9.2495\n",
      "Epoch 6/8\n",
      "135/135 - 5s - loss: 10.0476 - mae: 2.4262 - mse: 10.0476 - val_loss: 29.7864 - val_mae: 4.2362 - val_mse: 29.7864\n",
      "Epoch 7/8\n",
      "135/135 - 5s - loss: 12.1676 - mae: 2.6080 - mse: 12.1676 - val_loss: 19.5086 - val_mae: 3.3124 - val_mse: 19.5086\n",
      "Epoch 8/8\n"
     ]
    },
    {
     "ename": "KeyboardInterrupt",
     "evalue": "",
     "output_type": "error",
     "traceback": [
      "\u001b[0;31m---------------------------------------------------------------------------\u001b[0m",
      "\u001b[0;31mKeyboardInterrupt\u001b[0m                         Traceback (most recent call last)",
      "\u001b[0;32m<ipython-input-36-4a21c2d0b115>\u001b[0m in \u001b[0;36m<module>\u001b[0;34m\u001b[0m\n\u001b[1;32m     12\u001b[0m         \u001b[0mverbose\u001b[0m\u001b[0;34m=\u001b[0m\u001b[0;36m2\u001b[0m\u001b[0;34m,\u001b[0m\u001b[0;34m\u001b[0m\u001b[0;34m\u001b[0m\u001b[0m\n\u001b[1;32m     13\u001b[0m         \u001b[0minitial_epoch\u001b[0m\u001b[0;34m=\u001b[0m\u001b[0mi\u001b[0m\u001b[0;34m,\u001b[0m\u001b[0;34m\u001b[0m\u001b[0;34m\u001b[0m\u001b[0m\n\u001b[0;32m---> 14\u001b[0;31m         \u001b[0mcallbacks\u001b[0m\u001b[0;34m=\u001b[0m\u001b[0mcallbacks\u001b[0m\u001b[0;34m,\u001b[0m\u001b[0;34m\u001b[0m\u001b[0;34m\u001b[0m\u001b[0m\n\u001b[0m\u001b[1;32m     15\u001b[0m     )\n\u001b[1;32m     16\u001b[0m \u001b[0;34m\u001b[0m\u001b[0m\n",
      "\u001b[0;32m/usr/local/lib/python3.6/dist-packages/tensorflow/python/keras/engine/training.py\u001b[0m in \u001b[0;36m_method_wrapper\u001b[0;34m(self, *args, **kwargs)\u001b[0m\n\u001b[1;32m    106\u001b[0m   \u001b[0;32mdef\u001b[0m \u001b[0m_method_wrapper\u001b[0m\u001b[0;34m(\u001b[0m\u001b[0mself\u001b[0m\u001b[0;34m,\u001b[0m \u001b[0;34m*\u001b[0m\u001b[0margs\u001b[0m\u001b[0;34m,\u001b[0m \u001b[0;34m**\u001b[0m\u001b[0mkwargs\u001b[0m\u001b[0;34m)\u001b[0m\u001b[0;34m:\u001b[0m\u001b[0;34m\u001b[0m\u001b[0;34m\u001b[0m\u001b[0m\n\u001b[1;32m    107\u001b[0m     \u001b[0;32mif\u001b[0m \u001b[0;32mnot\u001b[0m \u001b[0mself\u001b[0m\u001b[0;34m.\u001b[0m\u001b[0m_in_multi_worker_mode\u001b[0m\u001b[0;34m(\u001b[0m\u001b[0;34m)\u001b[0m\u001b[0;34m:\u001b[0m  \u001b[0;31m# pylint: disable=protected-access\u001b[0m\u001b[0;34m\u001b[0m\u001b[0;34m\u001b[0m\u001b[0m\n\u001b[0;32m--> 108\u001b[0;31m       \u001b[0;32mreturn\u001b[0m \u001b[0mmethod\u001b[0m\u001b[0;34m(\u001b[0m\u001b[0mself\u001b[0m\u001b[0;34m,\u001b[0m \u001b[0;34m*\u001b[0m\u001b[0margs\u001b[0m\u001b[0;34m,\u001b[0m \u001b[0;34m**\u001b[0m\u001b[0mkwargs\u001b[0m\u001b[0;34m)\u001b[0m\u001b[0;34m\u001b[0m\u001b[0;34m\u001b[0m\u001b[0m\n\u001b[0m\u001b[1;32m    109\u001b[0m \u001b[0;34m\u001b[0m\u001b[0m\n\u001b[1;32m    110\u001b[0m     \u001b[0;31m# Running inside `run_distribute_coordinator` already.\u001b[0m\u001b[0;34m\u001b[0m\u001b[0;34m\u001b[0m\u001b[0;34m\u001b[0m\u001b[0m\n",
      "\u001b[0;32m/usr/local/lib/python3.6/dist-packages/tensorflow/python/keras/engine/training.py\u001b[0m in \u001b[0;36mfit\u001b[0;34m(self, x, y, batch_size, epochs, verbose, callbacks, validation_split, validation_data, shuffle, class_weight, sample_weight, initial_epoch, steps_per_epoch, validation_steps, validation_batch_size, validation_freq, max_queue_size, workers, use_multiprocessing)\u001b[0m\n\u001b[1;32m   1096\u001b[0m                 batch_size=batch_size):\n\u001b[1;32m   1097\u001b[0m               \u001b[0mcallbacks\u001b[0m\u001b[0;34m.\u001b[0m\u001b[0mon_train_batch_begin\u001b[0m\u001b[0;34m(\u001b[0m\u001b[0mstep\u001b[0m\u001b[0;34m)\u001b[0m\u001b[0;34m\u001b[0m\u001b[0;34m\u001b[0m\u001b[0m\n\u001b[0;32m-> 1098\u001b[0;31m               \u001b[0mtmp_logs\u001b[0m \u001b[0;34m=\u001b[0m \u001b[0mtrain_function\u001b[0m\u001b[0;34m(\u001b[0m\u001b[0miterator\u001b[0m\u001b[0;34m)\u001b[0m\u001b[0;34m\u001b[0m\u001b[0;34m\u001b[0m\u001b[0m\n\u001b[0m\u001b[1;32m   1099\u001b[0m               \u001b[0;32mif\u001b[0m \u001b[0mdata_handler\u001b[0m\u001b[0;34m.\u001b[0m\u001b[0mshould_sync\u001b[0m\u001b[0;34m:\u001b[0m\u001b[0;34m\u001b[0m\u001b[0;34m\u001b[0m\u001b[0m\n\u001b[1;32m   1100\u001b[0m                 \u001b[0mcontext\u001b[0m\u001b[0;34m.\u001b[0m\u001b[0masync_wait\u001b[0m\u001b[0;34m(\u001b[0m\u001b[0;34m)\u001b[0m\u001b[0;34m\u001b[0m\u001b[0;34m\u001b[0m\u001b[0m\n",
      "\u001b[0;32m/usr/local/lib/python3.6/dist-packages/tensorflow/python/eager/def_function.py\u001b[0m in \u001b[0;36m__call__\u001b[0;34m(self, *args, **kwds)\u001b[0m\n\u001b[1;32m    778\u001b[0m       \u001b[0;32melse\u001b[0m\u001b[0;34m:\u001b[0m\u001b[0;34m\u001b[0m\u001b[0;34m\u001b[0m\u001b[0m\n\u001b[1;32m    779\u001b[0m         \u001b[0mcompiler\u001b[0m \u001b[0;34m=\u001b[0m \u001b[0;34m\"nonXla\"\u001b[0m\u001b[0;34m\u001b[0m\u001b[0;34m\u001b[0m\u001b[0m\n\u001b[0;32m--> 780\u001b[0;31m         \u001b[0mresult\u001b[0m \u001b[0;34m=\u001b[0m \u001b[0mself\u001b[0m\u001b[0;34m.\u001b[0m\u001b[0m_call\u001b[0m\u001b[0;34m(\u001b[0m\u001b[0;34m*\u001b[0m\u001b[0margs\u001b[0m\u001b[0;34m,\u001b[0m \u001b[0;34m**\u001b[0m\u001b[0mkwds\u001b[0m\u001b[0;34m)\u001b[0m\u001b[0;34m\u001b[0m\u001b[0;34m\u001b[0m\u001b[0m\n\u001b[0m\u001b[1;32m    781\u001b[0m \u001b[0;34m\u001b[0m\u001b[0m\n\u001b[1;32m    782\u001b[0m       \u001b[0mnew_tracing_count\u001b[0m \u001b[0;34m=\u001b[0m \u001b[0mself\u001b[0m\u001b[0;34m.\u001b[0m\u001b[0m_get_tracing_count\u001b[0m\u001b[0;34m(\u001b[0m\u001b[0;34m)\u001b[0m\u001b[0;34m\u001b[0m\u001b[0;34m\u001b[0m\u001b[0m\n",
      "\u001b[0;32m/usr/local/lib/python3.6/dist-packages/tensorflow/python/eager/def_function.py\u001b[0m in \u001b[0;36m_call\u001b[0;34m(self, *args, **kwds)\u001b[0m\n\u001b[1;32m    805\u001b[0m       \u001b[0;31m# In this case we have created variables on the first call, so we run the\u001b[0m\u001b[0;34m\u001b[0m\u001b[0;34m\u001b[0m\u001b[0;34m\u001b[0m\u001b[0m\n\u001b[1;32m    806\u001b[0m       \u001b[0;31m# defunned version which is guaranteed to never create variables.\u001b[0m\u001b[0;34m\u001b[0m\u001b[0;34m\u001b[0m\u001b[0;34m\u001b[0m\u001b[0m\n\u001b[0;32m--> 807\u001b[0;31m       \u001b[0;32mreturn\u001b[0m \u001b[0mself\u001b[0m\u001b[0;34m.\u001b[0m\u001b[0m_stateless_fn\u001b[0m\u001b[0;34m(\u001b[0m\u001b[0;34m*\u001b[0m\u001b[0margs\u001b[0m\u001b[0;34m,\u001b[0m \u001b[0;34m**\u001b[0m\u001b[0mkwds\u001b[0m\u001b[0;34m)\u001b[0m  \u001b[0;31m# pylint: disable=not-callable\u001b[0m\u001b[0;34m\u001b[0m\u001b[0;34m\u001b[0m\u001b[0m\n\u001b[0m\u001b[1;32m    808\u001b[0m     \u001b[0;32melif\u001b[0m \u001b[0mself\u001b[0m\u001b[0;34m.\u001b[0m\u001b[0m_stateful_fn\u001b[0m \u001b[0;32mis\u001b[0m \u001b[0;32mnot\u001b[0m \u001b[0;32mNone\u001b[0m\u001b[0;34m:\u001b[0m\u001b[0;34m\u001b[0m\u001b[0;34m\u001b[0m\u001b[0m\n\u001b[1;32m    809\u001b[0m       \u001b[0;31m# Release the lock early so that multiple threads can perform the call\u001b[0m\u001b[0;34m\u001b[0m\u001b[0;34m\u001b[0m\u001b[0;34m\u001b[0m\u001b[0m\n",
      "\u001b[0;32m/usr/local/lib/python3.6/dist-packages/tensorflow/python/eager/function.py\u001b[0m in \u001b[0;36m__call__\u001b[0;34m(self, *args, **kwargs)\u001b[0m\n\u001b[1;32m   2827\u001b[0m     \u001b[0;32mwith\u001b[0m \u001b[0mself\u001b[0m\u001b[0;34m.\u001b[0m\u001b[0m_lock\u001b[0m\u001b[0;34m:\u001b[0m\u001b[0;34m\u001b[0m\u001b[0;34m\u001b[0m\u001b[0m\n\u001b[1;32m   2828\u001b[0m       \u001b[0mgraph_function\u001b[0m\u001b[0;34m,\u001b[0m \u001b[0margs\u001b[0m\u001b[0;34m,\u001b[0m \u001b[0mkwargs\u001b[0m \u001b[0;34m=\u001b[0m \u001b[0mself\u001b[0m\u001b[0;34m.\u001b[0m\u001b[0m_maybe_define_function\u001b[0m\u001b[0;34m(\u001b[0m\u001b[0margs\u001b[0m\u001b[0;34m,\u001b[0m \u001b[0mkwargs\u001b[0m\u001b[0;34m)\u001b[0m\u001b[0;34m\u001b[0m\u001b[0;34m\u001b[0m\u001b[0m\n\u001b[0;32m-> 2829\u001b[0;31m     \u001b[0;32mreturn\u001b[0m \u001b[0mgraph_function\u001b[0m\u001b[0;34m.\u001b[0m\u001b[0m_filtered_call\u001b[0m\u001b[0;34m(\u001b[0m\u001b[0margs\u001b[0m\u001b[0;34m,\u001b[0m \u001b[0mkwargs\u001b[0m\u001b[0;34m)\u001b[0m  \u001b[0;31m# pylint: disable=protected-access\u001b[0m\u001b[0;34m\u001b[0m\u001b[0;34m\u001b[0m\u001b[0m\n\u001b[0m\u001b[1;32m   2830\u001b[0m \u001b[0;34m\u001b[0m\u001b[0m\n\u001b[1;32m   2831\u001b[0m   \u001b[0;34m@\u001b[0m\u001b[0mproperty\u001b[0m\u001b[0;34m\u001b[0m\u001b[0;34m\u001b[0m\u001b[0m\n",
      "\u001b[0;32m/usr/local/lib/python3.6/dist-packages/tensorflow/python/eager/function.py\u001b[0m in \u001b[0;36m_filtered_call\u001b[0;34m(self, args, kwargs, cancellation_manager)\u001b[0m\n\u001b[1;32m   1846\u001b[0m                            resource_variable_ops.BaseResourceVariable))],\n\u001b[1;32m   1847\u001b[0m         \u001b[0mcaptured_inputs\u001b[0m\u001b[0;34m=\u001b[0m\u001b[0mself\u001b[0m\u001b[0;34m.\u001b[0m\u001b[0mcaptured_inputs\u001b[0m\u001b[0;34m,\u001b[0m\u001b[0;34m\u001b[0m\u001b[0;34m\u001b[0m\u001b[0m\n\u001b[0;32m-> 1848\u001b[0;31m         cancellation_manager=cancellation_manager)\n\u001b[0m\u001b[1;32m   1849\u001b[0m \u001b[0;34m\u001b[0m\u001b[0m\n\u001b[1;32m   1850\u001b[0m   \u001b[0;32mdef\u001b[0m \u001b[0m_call_flat\u001b[0m\u001b[0;34m(\u001b[0m\u001b[0mself\u001b[0m\u001b[0;34m,\u001b[0m \u001b[0margs\u001b[0m\u001b[0;34m,\u001b[0m \u001b[0mcaptured_inputs\u001b[0m\u001b[0;34m,\u001b[0m \u001b[0mcancellation_manager\u001b[0m\u001b[0;34m=\u001b[0m\u001b[0;32mNone\u001b[0m\u001b[0;34m)\u001b[0m\u001b[0;34m:\u001b[0m\u001b[0;34m\u001b[0m\u001b[0;34m\u001b[0m\u001b[0m\n",
      "\u001b[0;32m/usr/local/lib/python3.6/dist-packages/tensorflow/python/eager/function.py\u001b[0m in \u001b[0;36m_call_flat\u001b[0;34m(self, args, captured_inputs, cancellation_manager)\u001b[0m\n\u001b[1;32m   1922\u001b[0m       \u001b[0;31m# No tape is watching; skip to running the function.\u001b[0m\u001b[0;34m\u001b[0m\u001b[0;34m\u001b[0m\u001b[0;34m\u001b[0m\u001b[0m\n\u001b[1;32m   1923\u001b[0m       return self._build_call_outputs(self._inference_function.call(\n\u001b[0;32m-> 1924\u001b[0;31m           ctx, args, cancellation_manager=cancellation_manager))\n\u001b[0m\u001b[1;32m   1925\u001b[0m     forward_backward = self._select_forward_and_backward_functions(\n\u001b[1;32m   1926\u001b[0m         \u001b[0margs\u001b[0m\u001b[0;34m,\u001b[0m\u001b[0;34m\u001b[0m\u001b[0;34m\u001b[0m\u001b[0m\n",
      "\u001b[0;32m/usr/local/lib/python3.6/dist-packages/tensorflow/python/eager/function.py\u001b[0m in \u001b[0;36mcall\u001b[0;34m(self, ctx, args, cancellation_manager)\u001b[0m\n\u001b[1;32m    548\u001b[0m               \u001b[0minputs\u001b[0m\u001b[0;34m=\u001b[0m\u001b[0margs\u001b[0m\u001b[0;34m,\u001b[0m\u001b[0;34m\u001b[0m\u001b[0;34m\u001b[0m\u001b[0m\n\u001b[1;32m    549\u001b[0m               \u001b[0mattrs\u001b[0m\u001b[0;34m=\u001b[0m\u001b[0mattrs\u001b[0m\u001b[0;34m,\u001b[0m\u001b[0;34m\u001b[0m\u001b[0;34m\u001b[0m\u001b[0m\n\u001b[0;32m--> 550\u001b[0;31m               ctx=ctx)\n\u001b[0m\u001b[1;32m    551\u001b[0m         \u001b[0;32melse\u001b[0m\u001b[0;34m:\u001b[0m\u001b[0;34m\u001b[0m\u001b[0;34m\u001b[0m\u001b[0m\n\u001b[1;32m    552\u001b[0m           outputs = execute.execute_with_cancellation(\n",
      "\u001b[0;32m/usr/local/lib/python3.6/dist-packages/tensorflow/python/eager/execute.py\u001b[0m in \u001b[0;36mquick_execute\u001b[0;34m(op_name, num_outputs, inputs, attrs, ctx, name)\u001b[0m\n\u001b[1;32m     58\u001b[0m     \u001b[0mctx\u001b[0m\u001b[0;34m.\u001b[0m\u001b[0mensure_initialized\u001b[0m\u001b[0;34m(\u001b[0m\u001b[0;34m)\u001b[0m\u001b[0;34m\u001b[0m\u001b[0;34m\u001b[0m\u001b[0m\n\u001b[1;32m     59\u001b[0m     tensors = pywrap_tfe.TFE_Py_Execute(ctx._handle, device_name, op_name,\n\u001b[0;32m---> 60\u001b[0;31m                                         inputs, attrs, num_outputs)\n\u001b[0m\u001b[1;32m     61\u001b[0m   \u001b[0;32mexcept\u001b[0m \u001b[0mcore\u001b[0m\u001b[0;34m.\u001b[0m\u001b[0m_NotOkStatusException\u001b[0m \u001b[0;32mas\u001b[0m \u001b[0me\u001b[0m\u001b[0;34m:\u001b[0m\u001b[0;34m\u001b[0m\u001b[0;34m\u001b[0m\u001b[0m\n\u001b[1;32m     62\u001b[0m     \u001b[0;32mif\u001b[0m \u001b[0mname\u001b[0m \u001b[0;32mis\u001b[0m \u001b[0;32mnot\u001b[0m \u001b[0;32mNone\u001b[0m\u001b[0;34m:\u001b[0m\u001b[0;34m\u001b[0m\u001b[0;34m\u001b[0m\u001b[0m\n",
      "\u001b[0;31mKeyboardInterrupt\u001b[0m: "
     ]
    }
   ],
   "source": [
    "print(f'Train for total of {epochs} epochs:')\n",
    "for i in range(0, epochs, EVAL_FREQ):\n",
    "    history = model.fit(\n",
    "        pipeline_train,\n",
    "        batch_size=BATCH_SIZE,\n",
    "        steps_per_epoch=STEPS_PER_EPOCH,\n",
    "        epochs=i+EVAL_FREQ,  # TODO: replace with `epochs=10` here to shorten fine-tuning for tutorial if you wish\n",
    "        validation_data=pipeline_val,  # here we are only using \n",
    "                                       # this data to evaluate our performance\n",
    "        workers=1,\n",
    "        max_queue_size=5,\n",
    "        verbose=2,\n",
    "        initial_epoch=i,\n",
    "        callbacks=callbacks,\n",
    "    )\n",
    "    \n",
    "    print(f'Results on validation:')\n",
    "    eval_model(model, pipeline_val)"
   ]
  },
  {
   "cell_type": "code",
   "execution_count": 37,
   "metadata": {},
   "outputs": [
    {
     "name": "stdout",
     "output_type": "stream",
     "text": [
      "Epoch 1/100\n",
      "135/135 - 5s - loss: 10.3919 - mae: 2.4268 - mse: 10.3919 - val_loss: 16.4885 - val_mae: 3.2028 - val_mse: 16.4885\n",
      "Epoch 2/100\n",
      "135/135 - 5s - loss: 9.3079 - mae: 2.3645 - mse: 9.3079 - val_loss: 15.7418 - val_mae: 3.0554 - val_mse: 15.7418\n",
      "Epoch 3/100\n",
      "135/135 - 5s - loss: 10.8248 - mae: 2.4930 - mse: 10.8248 - val_loss: 18.2384 - val_mae: 3.3865 - val_mse: 18.2384\n",
      "Epoch 4/100\n",
      "135/135 - 5s - loss: 10.3086 - mae: 2.4287 - mse: 10.3086 - val_loss: 8.7851 - val_mae: 2.2129 - val_mse: 8.7851\n",
      "Epoch 5/100\n",
      "135/135 - 5s - loss: 10.3263 - mae: 2.4333 - mse: 10.3263 - val_loss: 18.7170 - val_mae: 3.5139 - val_mse: 18.7170\n",
      "Epoch 6/100\n",
      "135/135 - 5s - loss: 9.9137 - mae: 2.4061 - mse: 9.9137 - val_loss: 7.7587 - val_mae: 2.0923 - val_mse: 7.7587\n",
      "Epoch 7/100\n",
      "135/135 - 5s - loss: 9.0168 - mae: 2.3257 - mse: 9.0168 - val_loss: 8.8443 - val_mae: 2.2176 - val_mse: 8.8443\n",
      "Epoch 8/100\n",
      "135/135 - 5s - loss: 9.9725 - mae: 2.4074 - mse: 9.9725 - val_loss: 7.3858 - val_mae: 1.9864 - val_mse: 7.3858\n",
      "Epoch 9/100\n",
      "135/135 - 5s - loss: 9.1769 - mae: 2.3045 - mse: 9.1769 - val_loss: 16.0410 - val_mae: 3.2112 - val_mse: 16.0410\n",
      "Epoch 10/100\n",
      "135/135 - 5s - loss: 9.0792 - mae: 2.2902 - mse: 9.0792 - val_loss: 6.6975 - val_mae: 1.9040 - val_mse: 6.6975\n",
      "Epoch 11/100\n",
      "135/135 - 5s - loss: 8.5843 - mae: 2.2542 - mse: 8.5843 - val_loss: 7.3178 - val_mae: 2.0182 - val_mse: 7.3178\n",
      "Epoch 12/100\n",
      "135/135 - 5s - loss: 8.5994 - mae: 2.2511 - mse: 8.5994 - val_loss: 7.9032 - val_mae: 2.1420 - val_mse: 7.9032\n",
      "Epoch 13/100\n",
      "135/135 - 5s - loss: 9.1393 - mae: 2.3156 - mse: 9.1393 - val_loss: 7.9473 - val_mae: 2.1227 - val_mse: 7.9473\n",
      "Epoch 14/100\n",
      "135/135 - 5s - loss: 8.5451 - mae: 2.2451 - mse: 8.5451 - val_loss: 10.3961 - val_mae: 2.3189 - val_mse: 10.3961\n",
      "Results on validation:\n"
     ]
    },
    {
     "name": "stderr",
     "output_type": "stream",
     "text": [
      "/usr/local/lib/python3.6/dist-packages/ipykernel_launcher.py:2: DeprecationWarning: The default dtype for empty Series will be 'object' instead of 'float64' in a future version. Specify a dtype explicitly to silence this warning.\n",
      "  \n"
     ]
    },
    {
     "data": {
      "image/png": "[encoded data removed]",
      "text/plain": [
       "<Figure size 432x288 with 1 Axes>"
      ]
     },
     "metadata": {
      "needs_background": "light"
     },
     "output_type": "display_data"
    },
    {
     "data": {
      "text/plain": [
       "'MAE 0.6800921592166869\\nMSE 0.9045477252505519\\noutside 0.0\\n\\nopt factor 0.7666666666666666, with div_factor 1\\nopt MAE 3.8516835601905655\\nopt MSE 4.406929689884905\\nopt outside 0.0'"
      ]
     },
     "execution_count": 37,
     "metadata": {},
     "output_type": "execute_result"
    }
   ],
   "source": [
    "history = model.fit(\n",
    "    pipeline_train,\n",
    "    batch_size=BATCH_SIZE,\n",
    "    steps_per_epoch=STEPS_PER_EPOCH,\n",
    "    epochs=epochs,  # TODO: replace with `epochs=10` here to shorten fine-tuning for tutorial if you wish\n",
    "    validation_data=pipeline_val,  # here we are only using \n",
    "                                   # this data to evaluate our performance\n",
    "    workers=1,\n",
    "    max_queue_size=5,\n",
    "    verbose=2,\n",
    "    callbacks=callbacks,\n",
    ")\n",
    "\n",
    "print(f'Results on validation:')\n",
    "eval_model(model, pipeline_val)"
   ]
  },
  {
   "cell_type": "markdown",
   "metadata": {},
   "source": [
    "### See the results on test set\n",
    "- The iterative training might result in `model` not being the *best model*, but the best of the last epoch\n",
    "- This needs to be investigated, or graphs during training removed"
   ]
  },
  {
   "cell_type": "code",
   "execution_count": 41,
   "metadata": {},
   "outputs": [
    {
     "name": "stderr",
     "output_type": "stream",
     "text": [
      "/usr/local/lib/python3.6/dist-packages/ipykernel_launcher.py:2: DeprecationWarning: The default dtype for empty Series will be 'object' instead of 'float64' in a future version. Specify a dtype explicitly to silence this warning.\n",
      "  \n"
     ]
    },
    {
     "data": {
      "image/png": "[encoded data removed]",
      "text/plain": [
       "<Figure size 432x288 with 1 Axes>"
      ]
     },
     "metadata": {
      "needs_background": "light"
     },
     "output_type": "display_data"
    },
    {
     "data": {
      "text/plain": [
       "'MAE 0.6250984220434044\\nMSE 0.8358510041896645\\noutside 0.0\\n\\nopt factor 0.7333333333333332, with div_factor 1\\nopt MAE 4.2601645854822685\\nopt MSE 4.882512304793604\\nopt outside 0.0'"
      ]
     },
     "execution_count": 41,
     "metadata": {},
     "output_type": "execute_result"
    }
   ],
   "source": [
    "eval_model(model, pipeline_test)"
   ]
  },
  {
   "cell_type": "markdown",
   "metadata": {},
   "source": [
    "### Store model"
   ]
  },
  {
   "cell_type": "code",
   "execution_count": 39,
   "metadata": {},
   "outputs": [
    {
     "name": "stdout",
     "output_type": "stream",
     "text": [
      "INFO:tensorflow:Assets written to: ../../data/models/model_6.2/assets\n"
     ]
    },
    {
     "name": "stderr",
     "output_type": "stream",
     "text": [
      "INFO:tensorflow:Assets written to: ../../data/models/model_6.2/assets\n"
     ]
    }
   ],
   "source": [
    "model.save(model_folder / f\"model_{major_version}.{minor_version}\")"
   ]
  },
  {
   "cell_type": "code",
   "execution_count": 40,
   "metadata": {},
   "outputs": [],
   "source": [
    "model = tf.keras.models.load_model(model_folder / f\"model_{major_version}.{minor_version}\")"
   ]
  },
  {
   "cell_type": "markdown",
   "metadata": {},
   "source": [
    "# Evaluate scaling"
   ]
  },
  {
   "cell_type": "code",
   "execution_count": null,
   "metadata": {},
   "outputs": [],
   "source": [
    "results = []\n",
    "\n",
    "for i in [j for j in range(12, 13) if j not in [1, 7, 9]]:\n",
    "    exclude_series = [j for j in range(i + 1, 13) if j not in [1, 7, 9]]\n",
    "    trained_series = [j for j in range(1, i + 1) if j not in [1, 7, 9] and j not in exclude_series]\n",
    "    \n",
    "    create_dataset(data_dir, csv, [7, 9], exclude_series)\n",
    "    \n",
    "    ds_train = get_raw_dataset(data_dir / 'train')\n",
    "    ds_val = get_raw_dataset(data_dir / 'valid')\n",
    "    ds_test = get_raw_dataset(data_dir / 'test')\n",
    "    \n",
    "    pipeline_train = (ds_train\n",
    "                  .shuffle(10000)\n",
    "                  .repeat(int(SCHEDULE_LENGTH * BATCH_SIZE / DATASET_NUM_TRAIN_EXAMPLES * STEPS_PER_EPOCH) + 1 + 50)  # repeat dataset_size / num_steps\n",
    "                  .map(preprocess_train, num_parallel_calls=16)\n",
    "                  .batch(BATCH_SIZE)\n",
    "#                   .map(mixup, num_parallel_calls=8)\n",
    "                  .map(cast_to_tuple)  # for keras model.fit\n",
    "                  .prefetch(2))\n",
    "\n",
    "    pipeline_val = (ds_val.map(preprocess_test, num_parallel_calls=16)\n",
    "                      .batch(BATCH_SIZE)\n",
    "                      .map(cast_to_tuple)  # for keras model.fit\n",
    "#                       .cache()\n",
    "                      .prefetch(2))\n",
    "\n",
    "    pipeline_test = (ds_test.map(preprocess_test, num_parallel_calls=16)\n",
    "                      .batch(BATCH_SIZE)\n",
    "                      .map(cast_to_tuple)  # for keras model.fit\n",
    "#                       .cache()\n",
    "                      .prefetch(2))\n",
    "    \n",
    "    model.fit(\n",
    "        pipeline_train,\n",
    "        batch_size=BATCH_SIZE,\n",
    "        steps_per_epoch=STEPS_PER_EPOCH,\n",
    "        epochs=5+10*len(trained_series),  # TODO: replace with `epochs=10` here to shorten fine-tuning for tutorial if you wish\n",
    "        validation_data=pipeline_val,  # here we are only using \n",
    "                                       # this data to evaluate our performance\n",
    "        workers=1,\n",
    "        max_queue_size=10,\n",
    "        verbose=2,\n",
    "        initial_epoch=0,\n",
    "        callbacks=callbacks,\n",
    "    )\n",
    "    \n",
    "    print(f'Results on test trained on series {trained_series}:')\n",
    "    mae = eval_model(model, pipeline_test)\n",
    "    results.append((len(trained_series), mae))"
   ]
  },
  {
   "cell_type": "code",
   "execution_count": null,
   "metadata": {},
   "outputs": [],
   "source": [
    "results = [\n",
    "    ([2], 8.44499319732189, 9.371550683755338),\n",
    "    ([2, 3], 13.37575995853969, 15.029149723215783),\n",
    "    ([2, 3, 4], 7.454638554879596, 8.954571078264255),\n",
    "    ([2, 3, 4, 5], 8.240593127863747, 9.514434196136829),\n",
    "    ([2, 3, 4, 5, 6], 5.521295046550888, 6.479377072750131),\n",
    "    ([2, 3, 4, 5, 6, 8], 2.5415429869719914, 3.2072022896644303),\n",
    "    ([2, 3, 4, 5, 6, 8, 10], 1.823140286888395, 2.1770566876465356),\n",
    "    ([2, 3, 4, 5, 6, 8, 10, 11], 1.8589743707009725, 2.2091262306984163)\n",
    "]"
   ]
  },
  {
   "cell_type": "code",
   "execution_count": null,
   "metadata": {},
   "outputs": [],
   "source": [
    "print(results)"
   ]
  },
  {
   "cell_type": "code",
   "execution_count": null,
   "metadata": {},
   "outputs": [],
   "source": [
    "plt.plot([len(x[0]) for x in results], [x[1] for x in results], color='red')\n",
    "plt.yscale(\"log\")\n",
    "plt.xscale(\"log\")\n",
    "plt.show()"
   ]
  },
  {
   "cell_type": "code",
   "execution_count": null,
   "metadata": {},
   "outputs": [],
   "source": [
    "x = [np.log2(len(z[0])) for z in results]\n",
    "y = [np.log2(z[1]) for z in results]\n",
    "\n",
    "a, b = np.polyfit(x, y, 1)\n",
    "\n",
    "plt.plot([len(x[0]) for x in results], [x[1] for x in results], color='red', linestyle='None', marker='^')\n",
    "\n",
    "x = np.asarray((1, 25))\n",
    "y = x ** a * np.exp2(b)\n",
    "plt.plot(x, y, color='blue')\n",
    "\n",
    "x_1 = (1 / np.exp2(b)) ** (1 / a)\n",
    "print(x_1)\n",
    "plt.plot([x_1], [1], color='blue', linestyle='None', marker='^')\n",
    "\n",
    "plt.xticks([1, 2, 3, 4, 5, 10, 20])\n",
    "plt.yscale(\"log\")\n",
    "plt.xscale(\"log\")\n",
    "plt.show()"
   ]
  },
  {
   "cell_type": "code",
   "execution_count": null,
   "metadata": {},
   "outputs": [],
   "source": [
    "from matplotlib import pyplot as plt\n",
    "import matplotlib.ticker\n",
    "\n",
    "fig1, ax1 = plt.subplots()\n",
    "\n",
    "ax1.plot([len(x[0]) for x in results], [x[1] for x in results], color='red', linestyle='None', marker='^')\n",
    "ax1.plot(x, y, color='blue')\n",
    "ax1.plot([x_1], [1], color='blue', linestyle='None', marker='^')\n",
    "\n",
    "ax1.set_xscale('log')\n",
    "ax1.set_yscale('log')\n",
    "ax1.set_xticks([1, 2, 3, 4, 5, 6, 7, 8, 23])\n",
    "ax1.set_yticks([1, 1.8, 2.5, 5.5, 8, 13])\n",
    "ax1.get_xaxis().set_major_formatter(matplotlib.ticker.ScalarFormatter())\n",
    "ax1.get_yaxis().set_major_formatter(matplotlib.ticker.ScalarFormatter())\n",
    "plt.show()"
   ]
  },
  {
   "cell_type": "markdown",
   "metadata": {},
   "source": [
    "# Hyper search\n",
    "The pipeline (= preprocessing, since it is tf.data) can be put inside the build_model function => we can search for MixUp alpha, batch_size, etc.\n",
    "- There might be a problem with RAM overflow. Try `import gc; gc.collect()`."
   ]
  },
  {
   "cell_type": "code",
   "execution_count": null,
   "metadata": {
    "scrolled": true
   },
   "outputs": [],
   "source": [
    "!pip install keras_tuner"
   ]
  },
  {
   "cell_type": "code",
   "execution_count": null,
   "metadata": {},
   "outputs": [],
   "source": [
    "import kerastuner as kt\n",
    "\n",
    "def bit_tuning_model(module):\n",
    "    def build_model(hp: kt.HyperParameters):\n",
    "        input_ = tf.keras.layers.Input((CROP_TO, CROP_TO, 3))\n",
    "        x = module(input_)   # Outputs feature vectors [None, 2048]\n",
    "        \n",
    "#         activation = hp.Choice(f'dense_activation', ['elu', 'relu'])\n",
    "#         kernel_initializer = hp.Choice(f'kernel_initializer', \n",
    "#                                        ['glorot_normal', 'glorot_uniform',\n",
    "#                                         'lecun_normal', 'lecun_uniform', ])\n",
    "#         output_initializer = hp.Choice(f'kernel_initializer', \n",
    "#                                        ['glorot_normal', 'glorot_uniform',\n",
    "#                                         'lecun_normal', 'lecun_uniform', ])\n",
    "        \n",
    "        for i in range(hp.Int('dense_repetition', 0, 4)):\n",
    "            x = tf.keras.layers.Dropout(hp.Float(f'dropout_{i}', 0.0, 0.6))(x)\n",
    "            x = tf.keras.layers.Dense(hp.Int(f'dense_units_{i}', int(2**(4-i)), int(16 * 2**(5-i)), sampling='log'),\n",
    "                                      activation='relu',\n",
    "                                      kernel_initializer='lecun_uniform')(x)\n",
    "        x = tf.keras.layers.Dense(1, kernel_initializer='lecun_uniform')(x)\n",
    "\n",
    "        model_ = tf.keras.Model(input_, x)\n",
    "        \n",
    "        callbacks = [\n",
    "            tf.keras.callbacks.TensorBoard(profile_batch=0,),\n",
    "            tf.keras.callbacks.EarlyStopping(patience=10),\n",
    "        ]\n",
    "        \n",
    "        optimizer_name = hp.Choice(f'optimizer_name', ['ranger'])\n",
    "        initial_lr = hp.Choice('initial_lr', [3e-2, 1.5e-2, 8e-3, 5e-3, 3e-3])\n",
    "        \n",
    "        if optimizer_name == 'sgd':\n",
    "            lr = initial_lr * BATCH_SIZE / 512 \n",
    "            # Decay learning rate by a factor of 10 at SCHEDULE_BOUNDARIES.\n",
    "            lr_schedule = tf.keras.optimizers.schedules.PiecewiseConstantDecay(boundaries=SCHEDULE_BOUNDARIES, \n",
    "                                                                               values=[lr, lr*0.1, lr*0.001, lr*0.0001])\n",
    "            optimizer = tf.keras.optimizers.SGD(learning_rate=lr_schedule, momentum=0.9)\n",
    "            \n",
    "        if optimizer_name == 'adam':\n",
    "            optimizer = tf.keras.optimizers.Adam(learning_rate=initial_lr)\n",
    "            \n",
    "        if optimizer_name == 'ranger':\n",
    "            # add flat cos anealing from https://github.com/ronaldluc/DeepSaber/blob/52059b627a343ffacbb6f2711337569079b29916/src/train/learning_rate_schedule.py#L10\n",
    "            optimizer = tfa.optimizers.RectifiedAdam(learning_rate=initial_lr,   \n",
    "                                        beta_1=0.95,\n",
    "                                        beta_2=0.99,\n",
    "                                        epsilon=1e-6)\n",
    "            optimizer = tfa.optimizers.Lookahead(optimizer)\n",
    "            \n",
    "        loss_name = hp.Choice(f'loss_name', ['MAE'])\n",
    "        \n",
    "        loss_fn = {\n",
    "            'MAE': tf.keras.losses.MAE,\n",
    "            'MSE': tf.keras.losses.MSE,\n",
    "            'MAPE': tf.keras.losses.MeanAbsolutePercentageError,\n",
    "        }[loss_name]\n",
    "\n",
    "        model_.compile(optimizer=optimizer,\n",
    "                      loss=loss_fn,\n",
    "                      metrics=['mae', 'mse'])\n",
    "        \n",
    "        return model_\n",
    "    return build_model"
   ]
  },
  {
   "cell_type": "code",
   "execution_count": null,
   "metadata": {},
   "outputs": [],
   "source": [
    "tuner = kt.Hyperband(\n",
    "    bit_tuning_model(bit_model),\n",
    "    objective=kt.Objective('val_mse', direction='min'),\n",
    "    hyperband_iterations=1,\n",
    "    max_epochs=200,\n",
    "    factor=4,\n",
    "    directory=root_dir / 'hyper_search',\n",
    "    project_name=f'bit_2',   # will continue in this folder => each run needs a new name\n",
    "    overwrite=False,  # CAUTION!\n",
    ")\n",
    "tuner.search_space_summary()\n",
    "\n",
    "callbacks = callbacks = [\n",
    "    tf.keras.callbacks.TensorBoard(profile_batch=0,),\n",
    "    tf.keras.callbacks.EarlyStopping(patience=10),\n",
    "]\n",
    "\n",
    "tuner.search(\n",
    "        pipeline_train,\n",
    "        batch_size=BATCH_SIZE,\n",
    "        steps_per_epoch=STEPS_PER_EPOCH,\n",
    "        epochs=200,  # TODO: replace with `epochs=10` here to shorten fine-tuning for tutorial if you wish\n",
    "        validation_data=pipeline_val,  # here we are only using \n",
    "                                       # this data to evaluate our performance\n",
    "        workers=1,\n",
    "        max_queue_size=10,\n",
    "        verbose=2,\n",
    "        callbacks=callbacks,\n",
    ")\n",
    "\n",
    "print(tuner.results_summary())\n",
    "print(tuner.get_best_models(2)[0].summary())\n",
    "print(tuner.get_best_models(2)[0].evaluate(pipeline_test))\n",
    "\n",
    "eval_model(tuner.get_best_models(2)[0], pipeline_test)"
   ]
  }
 ],
 "metadata": {
  "kernelspec": {
   "display_name": "Python 3",
   "language": "python",
   "name": "python3"
  },
  "language_info": {
   "codemirror_mode": {
    "name": "ipython",
    "version": 3
   },
   "file_extension": ".py",
   "mimetype": "text/x-python",
   "name": "python",
   "nbconvert_exporter": "python",
   "pygments_lexer": "ipython3",
   "version": "3.6.9"
  }
 },
 "nbformat": 4,
 "nbformat_minor": 4
}
